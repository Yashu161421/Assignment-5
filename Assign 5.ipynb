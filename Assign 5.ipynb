{
 "cells": [
  {
   "cell_type": "code",
   "execution_count": 1,
   "id": "36570f30",
   "metadata": {},
   "outputs": [
    {
     "name": "stdout",
     "output_type": "stream",
     "text": [
      "Enter the x-coordinate: 1\n",
      "Enter the y-coordinate: 3\n",
      "Enter the z-coordinate: 5\n",
      "Sum of squares: 35\n"
     ]
    }
   ],
   "source": [
    "##CHALLENGE - 1\n",
    "\n",
    "class Point:\n",
    "\n",
    "    def __init__(self, x, y, z):\n",
    "        self.x = x\n",
    "        self.y = y\n",
    "        self.z = z\n",
    "\n",
    "    def sqSum(self):\n",
    "        return self.x ** 2 + self.y ** 2 + self.z ** 2\n",
    "\n",
    "# Take input from the user for the coordinates as integers\n",
    "x = int(input(\"Enter the x-coordinate: \"))\n",
    "y = int(input(\"Enter the y-coordinate: \"))\n",
    "z = int(input(\"Enter the z-coordinate: \"))\n",
    "\n",
    "point = Point(x, y, z)\n",
    "result = point.sqSum()\n",
    "\n",
    "print(\"Sum of squares:\", result)"
   ]
  },
  {
   "cell_type": "code",
   "execution_count": 2,
   "id": "0318fa72",
   "metadata": {},
   "outputs": [
    {
     "name": "stdout",
     "output_type": "stream",
     "text": [
      "Enter the first number: 10\n",
      "Enter the second number: 94\n",
      "104\n",
      "84\n",
      "940\n",
      "9.4\n"
     ]
    }
   ],
   "source": [
    "##CHALLENGE - 2\n",
    "\n",
    "class Calculator:\n",
    "\n",
    "    def __init__(self, num1, num2):\n",
    "        self.num1 = num1\n",
    "        self.num2 = num2\n",
    "\n",
    "    def add(self):\n",
    "        return self.num1 + self.num2\n",
    "\n",
    "    def subtract(self):\n",
    "        return self.num2 - self.num1\n",
    "\n",
    "    def multiply(self):\n",
    "        return self.num1 * self.num2\n",
    "\n",
    "    def divide(self):\n",
    "        if self.num1 == 0:\n",
    "            return \"Cannot divide by zero\"\n",
    "        return self.num2 / self.num1\n",
    "\n",
    "# Take input from the user for num1 and num2\n",
    "num1 = int(input(\"Enter the first number: \"))\n",
    "num2 = int(input(\"Enter the second number: \"))\n",
    "\n",
    "# Create a Calculator object with user-input values\n",
    "obj = Calculator(num1, num2)\n",
    "\n",
    "\n",
    "addition_result = obj.add()\n",
    "subtraction_result = obj.subtract()\n",
    "multiplication_result = obj.multiply()\n",
    "division_result = obj.divide()\n",
    "\n",
    "print(addition_result)   \n",
    "print(subtraction_result)  \n",
    "print(multiplication_result)\n",
    "print(division_result)\n"
   ]
  },
  {
   "cell_type": "code",
   "execution_count": 1,
   "id": "551caa7a",
   "metadata": {},
   "outputs": [
    {
     "name": "stdout",
     "output_type": "stream",
     "text": [
      "Yashu\n",
      "211614\n"
     ]
    }
   ],
   "source": [
    "##CHALLENGE - 3\n",
    "\n",
    "class Student:\n",
    "    def setName(self, name):\n",
    "        self._name = name\n",
    "\n",
    "    def getName(self):\n",
    "        return self._name\n",
    "\n",
    "    def setRollNumber(self, rollNumber):\n",
    "        self._rollNumber = rollNumber\n",
    "\n",
    "    def getRollNumber(self):\n",
    "        return self._rollNumber\n",
    "\n",
    "\n",
    "student = Student()\n",
    "student.setName(\"Yashu\")\n",
    "student.setRollNumber(\"211614\")\n",
    "\n",
    "print(student.getName())      \n",
    "print(student.getRollNumber())"
   ]
  },
  {
   "cell_type": "code",
   "execution_count": 4,
   "id": "90afc638",
   "metadata": {},
   "outputs": [
    {
     "name": "stdout",
     "output_type": "stream",
     "text": [
      "Ashish\n",
      "5000\n",
      "Ashish\n",
      "5000\n",
      "5\n"
     ]
    }
   ],
   "source": [
    "##CHALLENGE - 4\n",
    "\n",
    "class Account:\n",
    "    def __init__(self, title=None, balance=0):\n",
    "        self.title = title\n",
    "        self.balance = balance\n",
    "\n",
    "class SavingsAccount(Account):\n",
    "    def __init__(self, title=None, balance=0, interestRate=0):\n",
    "        super().__init__(title, balance)\n",
    "        \n",
    "        self.interestRate = interestRate\n",
    "\n",
    "\n",
    "account = Account(\"Ashish\", 5000)\n",
    "savings_account = SavingsAccount(\"Ashish\", 5000, 5)\n",
    "\n",
    "print(account.title)            \n",
    "print(account.balance)         \n",
    "\n",
    "print(savings_account.title)    \n",
    "print(savings_account.balance)\n",
    "print(savings_account.interestRate)  \n"
   ]
  },
  {
   "cell_type": "code",
   "execution_count": 5,
   "id": "2db55b3d",
   "metadata": {},
   "outputs": [
    {
     "name": "stdout",
     "output_type": "stream",
     "text": [
      "2200\n",
      "110.0\n"
     ]
    }
   ],
   "source": [
    "##CHALLENGE - 5\n",
    "\n",
    "class Account:\n",
    "    def __init__(self, title=None, balance=0):\n",
    "        self.title = title\n",
    "        self.balance = balance\n",
    "\n",
    "    def withdrawal(self, amount):\n",
    "        self.balance -= amount\n",
    "\n",
    "    def deposit(self, amount):\n",
    "        self.balance += amount\n",
    "\n",
    "    def getBalance(self):\n",
    "        return self.balance\n",
    "\n",
    "class SavingsAccount(Account):\n",
    "    def __init__(self, title=None, balance=0, interestRate=0):\n",
    "        super().__init__(title, balance)\n",
    "        self.interestRate = interestRate\n",
    "\n",
    "    def interestAmount(self):\n",
    "        return (self.balance * self.interestRate) / 100\n",
    "    \n",
    "    \n",
    "sample = SavingsAccount(\"Ashish\", 2000, 5)\n",
    "\n",
    "\n",
    "sample.deposit(500)\n",
    "sample.withdrawal(300)\n",
    "\n",
    "\n",
    "interest = sample.interestAmount()\n",
    "balance = sample.getBalance()\n",
    "\n",
    "print(balance)\n",
    "print(interest)\n"
   ]
  },
  {
   "cell_type": "code",
   "execution_count": null,
   "id": "bd64143b",
   "metadata": {},
   "outputs": [],
   "source": []
  }
 ],
 "metadata": {
  "kernelspec": {
   "display_name": "Python 3 (ipykernel)",
   "language": "python",
   "name": "python3"
  },
  "language_info": {
   "codemirror_mode": {
    "name": "ipython",
    "version": 3
   },
   "file_extension": ".py",
   "mimetype": "text/x-python",
   "name": "python",
   "nbconvert_exporter": "python",
   "pygments_lexer": "ipython3",
   "version": "3.11.3"
  }
 },
 "nbformat": 4,
 "nbformat_minor": 5
}
